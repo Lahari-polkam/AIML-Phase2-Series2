{
 "cells": [
  {
   "cell_type": "code",
   "execution_count": 1,
   "id": "24e6884c",
   "metadata": {},
   "outputs": [],
   "source": [
    "# Importing the libraries \n",
    "\n",
    "import pandas as pd\n",
    "import numpy as np \n",
    "import matplotlib.pyplot as plt\n",
    "import seaborn as sns\n",
    "\n",
    "# Ignore harmless warnings \n",
    "\n",
    "import warnings \n",
    "warnings.filterwarnings(\"ignore\")\n",
    "\n",
    "# Set to display all the columns in dataset\n",
    "\n",
    "pd.set_option(\"display.max_columns\", None)\n",
    "\n",
    "# Import psql to run queries \n",
    "\n",
    "import pandasql as psql\n"
   ]
  },
  {
   "cell_type": "code",
   "execution_count": 2,
   "id": "09252c7b",
   "metadata": {},
   "outputs": [],
   "source": [
    "import pandas as pd\n",
    "\n",
    "# Load the medical dataset from an Excel file\n",
    "file_path = r\"C:\\Users\\91767\\Downloads\\medical_dataset.xlsx\"\n",
    "medical = pd.read_excel(file_path, header=0)\n",
    "\n",
    "# Copy the file to a backup file\n",
    "medical_BK = medical.copy()"
   ]
  },
  {
   "cell_type": "code",
   "execution_count": 3,
   "id": "157a2b88",
   "metadata": {},
   "outputs": [
    {
     "data": {
      "text/html": [
       "<div>\n",
       "<style scoped>\n",
       "    .dataframe tbody tr th:only-of-type {\n",
       "        vertical-align: middle;\n",
       "    }\n",
       "\n",
       "    .dataframe tbody tr th {\n",
       "        vertical-align: top;\n",
       "    }\n",
       "\n",
       "    .dataframe thead th {\n",
       "        text-align: right;\n",
       "    }\n",
       "</style>\n",
       "<table border=\"1\" class=\"dataframe\">\n",
       "  <thead>\n",
       "    <tr style=\"text-align: right;\">\n",
       "      <th></th>\n",
       "      <th>Age</th>\n",
       "      <th>Gender</th>\n",
       "      <th>BMI</th>\n",
       "      <th>Blood Pressure</th>\n",
       "      <th>Cholesterol</th>\n",
       "      <th>Family Medical History</th>\n",
       "    </tr>\n",
       "  </thead>\n",
       "  <tbody>\n",
       "    <tr>\n",
       "      <th>0</th>\n",
       "      <td>56</td>\n",
       "      <td>Female</td>\n",
       "      <td>30.6</td>\n",
       "      <td>160.7</td>\n",
       "      <td>254.9</td>\n",
       "      <td>Heart Disease</td>\n",
       "    </tr>\n",
       "    <tr>\n",
       "      <th>1</th>\n",
       "      <td>69</td>\n",
       "      <td>Female</td>\n",
       "      <td>33.5</td>\n",
       "      <td>150.2</td>\n",
       "      <td>170.8</td>\n",
       "      <td>NaN</td>\n",
       "    </tr>\n",
       "    <tr>\n",
       "      <th>2</th>\n",
       "      <td>46</td>\n",
       "      <td>Female</td>\n",
       "      <td>21.5</td>\n",
       "      <td>142.3</td>\n",
       "      <td>169.9</td>\n",
       "      <td>Cancer</td>\n",
       "    </tr>\n",
       "    <tr>\n",
       "      <th>3</th>\n",
       "      <td>32</td>\n",
       "      <td>Female</td>\n",
       "      <td>31.5</td>\n",
       "      <td>123.5</td>\n",
       "      <td>295.4</td>\n",
       "      <td>Hypertension</td>\n",
       "    </tr>\n",
       "    <tr>\n",
       "      <th>4</th>\n",
       "      <td>60</td>\n",
       "      <td>Male</td>\n",
       "      <td>30.1</td>\n",
       "      <td>174.6</td>\n",
       "      <td>257.2</td>\n",
       "      <td>Hypertension</td>\n",
       "    </tr>\n",
       "    <tr>\n",
       "      <th>5</th>\n",
       "      <td>25</td>\n",
       "      <td>Female</td>\n",
       "      <td>22.9</td>\n",
       "      <td>177.6</td>\n",
       "      <td>156.2</td>\n",
       "      <td>NaN</td>\n",
       "    </tr>\n",
       "    <tr>\n",
       "      <th>6</th>\n",
       "      <td>78</td>\n",
       "      <td>Male</td>\n",
       "      <td>38.8</td>\n",
       "      <td>115.6</td>\n",
       "      <td>209.8</td>\n",
       "      <td>Heart Disease</td>\n",
       "    </tr>\n",
       "    <tr>\n",
       "      <th>7</th>\n",
       "      <td>38</td>\n",
       "      <td>Female</td>\n",
       "      <td>31.4</td>\n",
       "      <td>117.5</td>\n",
       "      <td>215.0</td>\n",
       "      <td>Heart Disease</td>\n",
       "    </tr>\n",
       "    <tr>\n",
       "      <th>8</th>\n",
       "      <td>56</td>\n",
       "      <td>Female</td>\n",
       "      <td>33.4</td>\n",
       "      <td>133.7</td>\n",
       "      <td>261.6</td>\n",
       "      <td>Cancer</td>\n",
       "    </tr>\n",
       "    <tr>\n",
       "      <th>9</th>\n",
       "      <td>75</td>\n",
       "      <td>Male</td>\n",
       "      <td>37.4</td>\n",
       "      <td>130.4</td>\n",
       "      <td>187.6</td>\n",
       "      <td>NaN</td>\n",
       "    </tr>\n",
       "  </tbody>\n",
       "</table>\n",
       "</div>"
      ],
      "text/plain": [
       "   Age  Gender   BMI  Blood Pressure  Cholesterol Family Medical History\n",
       "0   56  Female  30.6           160.7        254.9          Heart Disease\n",
       "1   69  Female  33.5           150.2        170.8                    NaN\n",
       "2   46  Female  21.5           142.3        169.9                 Cancer\n",
       "3   32  Female  31.5           123.5        295.4           Hypertension\n",
       "4   60    Male  30.1           174.6        257.2           Hypertension\n",
       "5   25  Female  22.9           177.6        156.2                    NaN\n",
       "6   78    Male  38.8           115.6        209.8          Heart Disease\n",
       "7   38  Female  31.4           117.5        215.0          Heart Disease\n",
       "8   56  Female  33.4           133.7        261.6                 Cancer\n",
       "9   75    Male  37.4           130.4        187.6                    NaN"
      ]
     },
     "execution_count": 3,
     "metadata": {},
     "output_type": "execute_result"
    }
   ],
   "source": [
    "medical.head(10)"
   ]
  },
  {
   "cell_type": "code",
   "execution_count": 4,
   "id": "19b18cc2",
   "metadata": {},
   "outputs": [
    {
     "name": "stdout",
     "output_type": "stream",
     "text": [
      "<class 'pandas.core.frame.DataFrame'>\n",
      "RangeIndex: 100 entries, 0 to 99\n",
      "Data columns (total 6 columns):\n",
      " #   Column                  Non-Null Count  Dtype  \n",
      "---  ------                  --------------  -----  \n",
      " 0   Age                     100 non-null    int64  \n",
      " 1   Gender                  100 non-null    object \n",
      " 2   BMI                     100 non-null    float64\n",
      " 3   Blood Pressure          100 non-null    float64\n",
      " 4   Cholesterol             100 non-null    float64\n",
      " 5   Family Medical History  82 non-null     object \n",
      "dtypes: float64(3), int64(1), object(2)\n",
      "memory usage: 4.8+ KB\n"
     ]
    }
   ],
   "source": [
    "medical.info()"
   ]
  },
  {
   "cell_type": "code",
   "execution_count": 5,
   "id": "67f52d34",
   "metadata": {},
   "outputs": [
    {
     "data": {
      "text/plain": [
       "Age                       51\n",
       "Gender                     2\n",
       "BMI                       84\n",
       "Blood Pressure            92\n",
       "Cholesterol               94\n",
       "Family Medical History     4\n",
       "dtype: int64"
      ]
     },
     "execution_count": 5,
     "metadata": {},
     "output_type": "execute_result"
    }
   ],
   "source": [
    "medical.nunique()"
   ]
  },
  {
   "cell_type": "code",
   "execution_count": 6,
   "id": "df6f8801",
   "metadata": {},
   "outputs": [
    {
     "data": {
      "text/plain": [
       "Family Medical History\n",
       "Cancer           28\n",
       "Heart Disease    22\n",
       "Hypertension     16\n",
       "Diabetes         16\n",
       "Name: count, dtype: int64"
      ]
     },
     "execution_count": 6,
     "metadata": {},
     "output_type": "execute_result"
    }
   ],
   "source": [
    "medical['Family Medical History'].value_counts()"
   ]
  },
  {
   "cell_type": "code",
   "execution_count": 8,
   "id": "087a5921",
   "metadata": {},
   "outputs": [],
   "source": [
    "#use labelencoder to handle categorical data\n",
    "from sklearn.preprocessing import LabelEncoder\n",
    "LE=LabelEncoder()\n",
    "medical['Family Medical History']=LE.fit_transform(medical[['Family Medical History']])"
   ]
  },
  {
   "cell_type": "code",
   "execution_count": 9,
   "id": "3e1e08f6",
   "metadata": {},
   "outputs": [
    {
     "data": {
      "text/plain": [
       "Family Medical History\n",
       "0    28\n",
       "2    22\n",
       "4    18\n",
       "3    16\n",
       "1    16\n",
       "Name: count, dtype: int64"
      ]
     },
     "execution_count": 9,
     "metadata": {},
     "output_type": "execute_result"
    }
   ],
   "source": [
    "medical['Family Medical History'].value_counts()\n"
   ]
  },
  {
   "cell_type": "code",
   "execution_count": 10,
   "id": "ac2c5776",
   "metadata": {},
   "outputs": [
    {
     "name": "stdout",
     "output_type": "stream",
     "text": [
      "Class 0: 28\n",
      "Class 1 16\n",
      "Class 2 22\n",
      "Class 3 16\n",
      "Proportion: 0.005 :1\n",
      "Total : 100\n"
     ]
    }
   ],
   "source": [
    "#count the target or dependent variable by '0' &'1' and their proportion \n",
    "#(>=10:1,then the dataset is imbalance data) \n",
    "disease_count=medical['Family Medical History'].value_counts()\n",
    "print(\"Class 0:\",disease_count[0])\n",
    "print(\"Class 1\",disease_count[1])\n",
    "print(\"Class 2\",disease_count[2])\n",
    "print(\"Class 3\",disease_count[3])\n",
    "print('Proportion:',round(disease_count[0]/disease_count[1]/disease_count[2]/disease_count[3],4),':1')\n",
    "print('Total :',len(medical))"
   ]
  },
  {
   "cell_type": "code",
   "execution_count": 11,
   "id": "a35d7055",
   "metadata": {},
   "outputs": [
    {
     "data": {
      "text/plain": [
       "Age                       0\n",
       "Gender                    0\n",
       "BMI                       0\n",
       "Blood Pressure            0\n",
       "Cholesterol               0\n",
       "Family Medical History    0\n",
       "dtype: int64"
      ]
     },
     "execution_count": 11,
     "metadata": {},
     "output_type": "execute_result"
    }
   ],
   "source": [
    "# Displaying Duplicate values with in dataset\n",
    "medical_dup= medical[medical.duplicated(keep='last')]\n",
    "\n",
    "# Display the duplicate records\n",
    "\n",
    "medical_dup\n",
    "\n",
    "\n",
    "# In[13]:\n",
    "\n",
    "\n",
    "medical.isnull().sum()\n",
    "\n"
   ]
  },
  {
   "cell_type": "code",
   "execution_count": 12,
   "id": "c5caf6b1",
   "metadata": {},
   "outputs": [
    {
     "data": {
      "text/html": [
       "<div>\n",
       "<style scoped>\n",
       "    .dataframe tbody tr th:only-of-type {\n",
       "        vertical-align: middle;\n",
       "    }\n",
       "\n",
       "    .dataframe tbody tr th {\n",
       "        vertical-align: top;\n",
       "    }\n",
       "\n",
       "    .dataframe thead th {\n",
       "        text-align: right;\n",
       "    }\n",
       "</style>\n",
       "<table border=\"1\" class=\"dataframe\">\n",
       "  <thead>\n",
       "    <tr style=\"text-align: right;\">\n",
       "      <th></th>\n",
       "      <th>BMI</th>\n",
       "      <th>Blood Pressure</th>\n",
       "      <th>Cholesterol</th>\n",
       "      <th>Family Medical History</th>\n",
       "    </tr>\n",
       "  </thead>\n",
       "  <tbody>\n",
       "    <tr>\n",
       "      <th>0</th>\n",
       "      <td>30.6</td>\n",
       "      <td>160.7</td>\n",
       "      <td>254.9</td>\n",
       "      <td>2</td>\n",
       "    </tr>\n",
       "    <tr>\n",
       "      <th>1</th>\n",
       "      <td>33.5</td>\n",
       "      <td>150.2</td>\n",
       "      <td>170.8</td>\n",
       "      <td>4</td>\n",
       "    </tr>\n",
       "    <tr>\n",
       "      <th>2</th>\n",
       "      <td>21.5</td>\n",
       "      <td>142.3</td>\n",
       "      <td>169.9</td>\n",
       "      <td>0</td>\n",
       "    </tr>\n",
       "    <tr>\n",
       "      <th>3</th>\n",
       "      <td>31.5</td>\n",
       "      <td>123.5</td>\n",
       "      <td>295.4</td>\n",
       "      <td>3</td>\n",
       "    </tr>\n",
       "    <tr>\n",
       "      <th>4</th>\n",
       "      <td>30.1</td>\n",
       "      <td>174.6</td>\n",
       "      <td>257.2</td>\n",
       "      <td>3</td>\n",
       "    </tr>\n",
       "  </tbody>\n",
       "</table>\n",
       "</div>"
      ],
      "text/plain": [
       "    BMI  Blood Pressure  Cholesterol  Family Medical History\n",
       "0  30.6           160.7        254.9                       2\n",
       "1  33.5           150.2        170.8                       4\n",
       "2  21.5           142.3        169.9                       0\n",
       "3  31.5           123.5        295.4                       3\n",
       "4  30.1           174.6        257.2                       3"
      ]
     },
     "execution_count": 12,
     "metadata": {},
     "output_type": "execute_result"
    }
   ],
   "source": [
    "del medical[\"Gender\"]\n",
    "del medical[\"Age\"]\n",
    "medical.head()\n"
   ]
  },
  {
   "cell_type": "code",
   "execution_count": 13,
   "id": "13f66b8e",
   "metadata": {},
   "outputs": [
    {
     "data": {
      "text/html": [
       "<div>\n",
       "<style scoped>\n",
       "    .dataframe tbody tr th:only-of-type {\n",
       "        vertical-align: middle;\n",
       "    }\n",
       "\n",
       "    .dataframe tbody tr th {\n",
       "        vertical-align: top;\n",
       "    }\n",
       "\n",
       "    .dataframe thead th {\n",
       "        text-align: right;\n",
       "    }\n",
       "</style>\n",
       "<table border=\"1\" class=\"dataframe\">\n",
       "  <thead>\n",
       "    <tr style=\"text-align: right;\">\n",
       "      <th></th>\n",
       "      <th>BMI</th>\n",
       "      <th>Blood Pressure</th>\n",
       "      <th>Cholesterol</th>\n",
       "      <th>Family Medical History</th>\n",
       "    </tr>\n",
       "  </thead>\n",
       "  <tbody>\n",
       "    <tr>\n",
       "      <th>count</th>\n",
       "      <td>100.000000</td>\n",
       "      <td>100.000000</td>\n",
       "      <td>100.000000</td>\n",
       "      <td>100.000000</td>\n",
       "    </tr>\n",
       "    <tr>\n",
       "      <th>mean</th>\n",
       "      <td>29.516000</td>\n",
       "      <td>134.181000</td>\n",
       "      <td>223.130000</td>\n",
       "      <td>1.800000</td>\n",
       "    </tr>\n",
       "    <tr>\n",
       "      <th>std</th>\n",
       "      <td>5.998362</td>\n",
       "      <td>25.554136</td>\n",
       "      <td>42.857939</td>\n",
       "      <td>1.463357</td>\n",
       "    </tr>\n",
       "    <tr>\n",
       "      <th>min</th>\n",
       "      <td>18.500000</td>\n",
       "      <td>90.500000</td>\n",
       "      <td>152.300000</td>\n",
       "      <td>0.000000</td>\n",
       "    </tr>\n",
       "    <tr>\n",
       "      <th>25%</th>\n",
       "      <td>24.175000</td>\n",
       "      <td>115.000000</td>\n",
       "      <td>185.950000</td>\n",
       "      <td>0.000000</td>\n",
       "    </tr>\n",
       "    <tr>\n",
       "      <th>50%</th>\n",
       "      <td>29.600000</td>\n",
       "      <td>131.750000</td>\n",
       "      <td>226.350000</td>\n",
       "      <td>2.000000</td>\n",
       "    </tr>\n",
       "    <tr>\n",
       "      <th>75%</th>\n",
       "      <td>33.800000</td>\n",
       "      <td>154.075000</td>\n",
       "      <td>254.150000</td>\n",
       "      <td>3.000000</td>\n",
       "    </tr>\n",
       "    <tr>\n",
       "      <th>max</th>\n",
       "      <td>40.000000</td>\n",
       "      <td>179.500000</td>\n",
       "      <td>296.900000</td>\n",
       "      <td>4.000000</td>\n",
       "    </tr>\n",
       "  </tbody>\n",
       "</table>\n",
       "</div>"
      ],
      "text/plain": [
       "              BMI  Blood Pressure  Cholesterol  Family Medical History\n",
       "count  100.000000      100.000000   100.000000              100.000000\n",
       "mean    29.516000      134.181000   223.130000                1.800000\n",
       "std      5.998362       25.554136    42.857939                1.463357\n",
       "min     18.500000       90.500000   152.300000                0.000000\n",
       "25%     24.175000      115.000000   185.950000                0.000000\n",
       "50%     29.600000      131.750000   226.350000                2.000000\n",
       "75%     33.800000      154.075000   254.150000                3.000000\n",
       "max     40.000000      179.500000   296.900000                4.000000"
      ]
     },
     "execution_count": 13,
     "metadata": {},
     "output_type": "execute_result"
    }
   ],
   "source": [
    "medical.describe()"
   ]
  },
  {
   "cell_type": "code",
   "execution_count": 14,
   "id": "7fb50585",
   "metadata": {},
   "outputs": [],
   "source": [
    "# Identify the independent and Target (dependent) variables\n",
    "\n",
    "IndepVar = []\n",
    "for col in medical.columns:\n",
    "    if col != 'Family Medical History':\n",
    "        IndepVar.append(col)\n",
    "\n",
    "TargetVar = 'Family Medical History'\n",
    "\n",
    "x =medical[IndepVar]\n",
    "y =medical[TargetVar]\n"
   ]
  },
  {
   "cell_type": "code",
   "execution_count": 15,
   "id": "94c2be9f",
   "metadata": {},
   "outputs": [
    {
     "data": {
      "text/plain": [
       "((70, 3), (30, 3), (70,), (30,))"
      ]
     },
     "execution_count": 15,
     "metadata": {},
     "output_type": "execute_result"
    }
   ],
   "source": [
    "# Split the data into train and test (random sampling)\n",
    "\n",
    "from sklearn.model_selection import train_test_split \n",
    "\n",
    "x_train, x_test, y_train, y_test = train_test_split(x, y, test_size=0.3, random_state=42)\n",
    "\n",
    "# Display the shape for train & test data\n",
    "\n",
    "x_train.shape, x_test.shape, y_train.shape, y_test.shape"
   ]
  },
  {
   "cell_type": "code",
   "execution_count": 16,
   "id": "8ab5d526",
   "metadata": {},
   "outputs": [],
   "source": [
    "# Scaling the features by using MinMaxScaler\n",
    "\n",
    "from sklearn.preprocessing import MinMaxScaler\n",
    "\n",
    "mmscaler = MinMaxScaler(feature_range=(0, 1))\n",
    "#since all x are indpendent variables\n",
    "x_train = mmscaler.fit_transform(x_train)\n",
    "x_train = pd.DataFrame(x_train)\n",
    "\n",
    "x_test= mmscaler.fit_transform(x_test)\n",
    "x_test = pd.DataFrame(x_test)"
   ]
  },
  {
   "cell_type": "code",
   "execution_count": 18,
   "id": "b239decb",
   "metadata": {},
   "outputs": [
    {
     "data": {
      "text/html": [
       "<div>\n",
       "<style scoped>\n",
       "    .dataframe tbody tr th:only-of-type {\n",
       "        vertical-align: middle;\n",
       "    }\n",
       "\n",
       "    .dataframe tbody tr th {\n",
       "        vertical-align: top;\n",
       "    }\n",
       "\n",
       "    .dataframe thead th {\n",
       "        text-align: right;\n",
       "    }\n",
       "</style>\n",
       "<table border=\"1\" class=\"dataframe\">\n",
       "  <thead>\n",
       "    <tr style=\"text-align: right;\">\n",
       "      <th></th>\n",
       "      <th>Model Name</th>\n",
       "      <th>KNN K Value</th>\n",
       "      <th>Accuracy</th>\n",
       "      <th>Precision</th>\n",
       "      <th>Recall</th>\n",
       "      <th>F1 Score</th>\n",
       "      <th>Specificity</th>\n",
       "      <th>MCC</th>\n",
       "      <th>ROC_AUC_Score</th>\n",
       "      <th>Balanced Accuracy</th>\n",
       "    </tr>\n",
       "  </thead>\n",
       "  <tbody>\n",
       "  </tbody>\n",
       "</table>\n",
       "</div>"
      ],
      "text/plain": [
       "Empty DataFrame\n",
       "Columns: [Model Name, KNN K Value, Accuracy, Precision, Recall, F1 Score, Specificity, MCC, ROC_AUC_Score, Balanced Accuracy]\n",
       "Index: []"
      ]
     },
     "execution_count": 18,
     "metadata": {},
     "output_type": "execute_result"
    }
   ],
   "source": [
    "#load the result dataset \n",
    "medical_results=pd.read_csv(r\"C:\\Users\\91767\\Downloads\\knnresults.csv\",header=0)\n",
    "medical_results.head()\n"
   ]
  },
  {
   "cell_type": "code",
   "execution_count": null,
   "id": "a0f0c360",
   "metadata": {},
   "outputs": [],
   "source": [
    "pip install imbalanced-learn xgboost openpyxl"
   ]
  },
  {
   "cell_type": "code",
   "execution_count": null,
   "id": "55d118ab",
   "metadata": {},
   "outputs": [],
   "source": [
    "import pandas as pd\n",
    "import numpy as np\n",
    "from sklearn.model_selection import train_test_split, GridSearchCV\n",
    "from sklearn.preprocessing import StandardScaler, LabelEncoder\n",
    "from sklearn.neighbors import KNeighborsClassifier\n",
    "from sklearn.tree import DecisionTreeClassifier\n",
    "from sklearn.ensemble import RandomForestClassifier, GradientBoostingClassifier, VotingClassifier\n",
    "from sklearn.linear_model import LogisticRegression\n",
    "from sklearn.metrics import accuracy_score, classification_report\n",
    "from imblearn.over_sampling import SMOTE\n",
    "import xgboost as xgb\n",
    "\n",
    "# Load the dataset\n",
    "file_path = r\"C:\\Users\\91767\\Downloads\\medical_dataset.xlsx\"\n",
    "data = pd.read_excel(file_path, header=0)\n",
    "\n",
    "# Preprocessing\n",
    "le = LabelEncoder()\n",
    "data['Gender'] = le.fit_transform(data['Gender'])\n",
    "data['Family Medical History'] = le.fit_transform(data['Family Medical History'])\n",
    "\n",
    "# Splitting features and target variable\n",
    "X = data.drop('Family Medical History', axis=1)\n",
    "y = data['Family Medical History']\n",
    "\n",
    "# Splitting the dataset into training and testing sets\n",
    "X_train, X_test, y_train, y_test = train_test_split(X, y, test_size=0.2, random_state=42)\n",
    "\n",
    "# Feature scaling\n",
    "scaler = StandardScaler()\n",
    "X_train = scaler.fit_transform(X_train)\n",
    "X_test = scaler.transform(X_test)\n",
    "\n",
    "# Handle class imbalance using SMOTE\n",
    "smote = SMOTE(random_state=42)\n",
    "X_train_res, y_train_res = smote.fit_resample(X_train, y_train)\n",
    "\n",
    "# Hyperparameter tuning for Random Forest, XGBoost, and Gradient Boosting\n",
    "param_grid_rf = {\n",
    "    'n_estimators': [100, 200, 300],\n",
    "    'max_depth': [None, 10, 20],\n",
    "    'min_samples_split': [2, 5, 10],\n",
    "    'min_samples_leaf': [1, 2, 4]\n",
    "}\n",
    "\n",
    "param_grid_xgb = {\n",
    "    'n_estimators': [100, 200, 300],\n",
    "    'max_depth': [3, 6, 9],\n",
    "    'learning_rate': [0.01, 0.1, 0.2],\n",
    "    'subsample': [0.8, 1.0],\n",
    "    'colsample_bytree': [0.8, 1.0]\n",
    "}\n",
    "\n",
    "param_grid_gb = {\n",
    "    'n_estimators': [100, 200, 300],\n",
    "    'learning_rate': [0.01, 0.1, 0.2],\n",
    "    'max_depth': [3, 6, 9],\n",
    "    'subsample': [0.8, 1.0]\n",
    "}\n",
    "\n",
    "# Models initialization with refined hyperparameter tuning\n",
    "models = {\n",
    "    'KNN': KNeighborsClassifier(n_neighbors=5),  # Adjust KNN parameters\n",
    "    'Decision Tree': DecisionTreeClassifier(random_state=42),\n",
    "    'Random Forest': GridSearchCV(RandomForestClassifier(random_state=42), param_grid_rf, cv=3, n_jobs=-1, verbose=2),\n",
    "    'Logistic Regression': LogisticRegression(random_state=42, max_iter=1000),\n",
    "    'XGBoost': GridSearchCV(xgb.XGBClassifier(random_state=42), param_grid_xgb, cv=3, n_jobs=-1, verbose=2),\n",
    "    'Gradient Boosting': GridSearchCV(GradientBoostingClassifier(random_state=42), param_grid_gb, cv=3, n_jobs=-1, verbose=2)\n",
    "}\n",
    "\n",
    "# Function to evaluate models\n",
    "def evaluate_model(model, X_train, y_train, X_test, y_test):\n",
    "    model.fit(X_train, y_train)\n",
    "    y_pred = model.predict(X_test)\n",
    "    accuracy = accuracy_score(y_test, y_pred)\n",
    "    report = classification_report(y_test, y_pred)\n",
    "    return accuracy, report\n",
    "\n",
    "# Evaluating each model\n",
    "results = {}\n",
    "for model_name, model in models.items():\n",
    "    print(f\"Training {model_name}...\")\n",
    "    accuracy, report = evaluate_model(model, X_train_res, y_train_res, X_test, y_test)\n",
    "    results[model_name] = {'Accuracy': accuracy, 'Classification Report': report}\n",
    "\n",
    "# Displaying results\n",
    "for model_name, result in results.items():\n",
    "    print(f\"Model: {model_name}\")\n",
    "    print(f\"Accuracy: {result['Accuracy']:.2f}\")\n",
    "    print(\"Classification Report:\")\n",
    "    print(result['Classification Report'])\n",
    "    print(\"-\" * 50)\n"
   ]
  },
  {
   "cell_type": "code",
   "execution_count": null,
   "id": "efc8a7c0",
   "metadata": {},
   "outputs": [],
   "source": [
    "# Plotting bar graph for accuracies\n",
    "model_names = list(results.keys())\n",
    "accuracies = [results[model]['Accuracy'] for model in model_names]\n",
    "\n",
    "plt.figure(figsize=(10, 6))\n",
    "plt.bar(model_names, accuracies, color='skyblue')\n",
    "plt.xlabel('Models')\n",
    "plt.ylabel('Accuracy')\n",
    "plt.title('Accuracy Comparison of Models')\n",
    "plt.ylim([0, 1])\n",
    "plt.xticks(rotation=45)\n",
    "plt.tight_layout()\n",
    "plt.show()"
   ]
  }
 ],
 "metadata": {
  "kernelspec": {
   "display_name": "Python 3 (ipykernel)",
   "language": "python",
   "name": "python3"
  },
  "language_info": {
   "codemirror_mode": {
    "name": "ipython",
    "version": 3
   },
   "file_extension": ".py",
   "mimetype": "text/x-python",
   "name": "python",
   "nbconvert_exporter": "python",
   "pygments_lexer": "ipython3",
   "version": "3.11.5"
  }
 },
 "nbformat": 4,
 "nbformat_minor": 5
}
